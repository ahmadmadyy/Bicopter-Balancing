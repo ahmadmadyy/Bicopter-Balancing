{
 "cells": [
  {
   "cell_type": "code",
   "execution_count": null,
   "id": "4e1dfc9f-a69c-4a32-a272-fae399dcb964",
   "metadata": {},
   "outputs": [],
   "source": [
    "import serial\n",
    "import time\n",
    "import cv2\n",
    "import numpy as np\n",
    "\n",
    "cap = cv2.VideoCapture(0)\n",
    "ser = serial.Serial('COM7', 115200, timeout=1)\n",
    "x='A'\n",
    "y='B'\n",
    "\n",
    "while (cap.isOpened()):\n",
    "    ret, frame = cap.read()\n",
    "     # Adaptive Thresholding\n",
    "    gray = cv2.cvtColor(frame, cv2.COLOR_BGR2GRAY)\n",
    "    mean = np.mean(gray)\n",
    "    #print(mean)\n",
    "    if mean < 50:\n",
    "        ser.write(x.encode())\n",
    "        print(x)\n",
    "    elif mean > 100:\n",
    "        ser.write(y.encode())\n",
    "        print(y)\n",
    "    cv2.imshow('frame',gray)    \n",
    "    if cv2.waitKey(1) == ord('q'):\n",
    "        break\n",
    "\n",
    "cap.release()\n",
    "cv2.destroyAllWindows()\n",
    "ser.close() "
   ]
  }
 ],
 "metadata": {
  "kernelspec": {
   "display_name": "Python 3 (ipykernel)",
   "language": "python",
   "name": "python3"
  },
  "language_info": {
   "codemirror_mode": {
    "name": "ipython",
    "version": 3
   },
   "file_extension": ".py",
   "mimetype": "text/x-python",
   "name": "python",
   "nbconvert_exporter": "python",
   "pygments_lexer": "ipython3",
   "version": "3.9.13"
  }
 },
 "nbformat": 4,
 "nbformat_minor": 5
}
